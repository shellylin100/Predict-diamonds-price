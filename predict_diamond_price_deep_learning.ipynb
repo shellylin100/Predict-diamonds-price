{
 "cells": [
  {
   "cell_type": "markdown",
   "metadata": {},
   "source": [
    "**SciKit-Stack and Deep Learning**\n",
    "- Deep Learning – Run a Deep Learning Model: Build a Loan Amount Calculator using Multiple Linear Regression\n",
    "\n",
    "- Dataset description: https://ggplot2.tidyverse.org/reference/diamonds.html \n",
    "- Dataset: https://github.com/tidyverse/ggplot2/blob/master/data-raw/diamonds.csv \n",
    "\n",
    "**Steps:**\n",
    "\n",
    "- Use the diamonds dataset to perform a Deep Learning (Regression) model. \n",
    "- Target variable is price.\n",
    "- Parameters to evaluate are MAE and MAPE. \n",
    "- Please report results for test and training dataset! Packages: Tensorflow and Keras"
   ]
  },
  {
   "cell_type": "markdown",
   "metadata": {
    "id": "yKKDQpvbTnTR"
   },
   "source": [
    "# Deep Learning for regression task"
   ]
  },
  {
   "cell_type": "markdown",
   "metadata": {
    "id": "WQuwZJYMTuwZ"
   },
   "source": [
    "## Package Handling"
   ]
  },
  {
   "cell_type": "code",
   "execution_count": 1,
   "metadata": {
    "ExecuteTime": {
     "end_time": "2021-02-08T12:15:38.564849Z",
     "start_time": "2021-02-08T12:15:30.707664Z"
    },
    "id": "sPdOXYgYTefx"
   },
   "outputs": [],
   "source": [
    "import matplotlib.pyplot as plt\n",
    "import seaborn as sns; sns.set()\n",
    "%matplotlib inline\n",
    "import numpy as np\n",
    "import pandas as pd\n",
    "import seaborn as sns # will provide so called SPLOMs or pairplots (Scatterplot Matrix)\n",
    "import tensorflow as tf\n",
    "import keras\n",
    "from keras import layers\n",
    "from keras import preprocessing\n",
    "from keras import models\n",
    "from keras.layers import Dense\n",
    "# StandardScaler\n",
    "# Standardization\n",
    "from sklearn.preprocessing import StandardScaler\n",
    "# import train_test_split\n",
    "from sklearn.model_selection import train_test_split\n",
    "import warnings\n",
    "warnings.filterwarnings('ignore')\n",
    "\n",
    "# Evaluation\n",
    "from sklearn import metrics\n",
    "from sklearn.metrics import r2_score, mean_squared_error, mean_absolute_error, mean_absolute_percentage_error"
   ]
  },
  {
   "cell_type": "code",
   "execution_count": 2,
   "metadata": {
    "ExecuteTime": {
     "end_time": "2021-02-08T12:15:38.578125Z",
     "start_time": "2021-02-08T12:15:38.569569Z"
    },
    "colab": {
     "base_uri": "https://localhost:8080/"
    },
    "id": "jZ4snXBCTzfa",
    "outputId": "99da38a9-46eb-44f6-9534-c9ff07a8d2c7"
   },
   "outputs": [
    {
     "name": "stdout",
     "output_type": "stream",
     "text": [
      "keras version: 2.4.3\n",
      "tensorflow version: 2.4.1\n"
     ]
    }
   ],
   "source": [
    "# Check current version of keras and tensorflow\n",
    "print('keras version:', keras.__version__)\n",
    "print('tensorflow version:', tf.__version__)"
   ]
  },
  {
   "cell_type": "code",
   "execution_count": 3,
   "metadata": {
    "ExecuteTime": {
     "end_time": "2021-02-08T12:15:38.590079Z",
     "start_time": "2021-02-08T12:15:38.584177Z"
    },
    "id": "dsy7FIC4T8Q7"
   },
   "outputs": [],
   "source": [
    "# LNotebook output setting to reduce the number of digits in output\n",
    "np.set_printoptions(precision=3, suppress=True)"
   ]
  },
  {
   "cell_type": "markdown",
   "metadata": {
    "id": "rD6X-z61T3Ev"
   },
   "source": [
    "## Data IO\n",
    "- Diamonds dataset"
   ]
  },
  {
   "cell_type": "code",
   "execution_count": 37,
   "metadata": {
    "ExecuteTime": {
     "end_time": "2021-02-08T12:19:43.603091Z",
     "start_time": "2021-02-08T12:19:43.033660Z"
    },
    "id": "BT3s2QpQT024"
   },
   "outputs": [],
   "source": [
    "# Import diamonds dataset from the internet\n",
    "url = \"https://raw.githubusercontent.com/tidyverse/ggplot2/master/data-raw/diamonds.csv\"\n",
    "diamonds_raw = pd.read_csv(url)"
   ]
  },
  {
   "cell_type": "code",
   "execution_count": 5,
   "metadata": {
    "ExecuteTime": {
     "end_time": "2021-02-08T12:15:39.803932Z",
     "start_time": "2021-02-08T12:15:39.798693Z"
    },
    "id": "WOZavw132t9j"
   },
   "outputs": [],
   "source": [
    "# make a backup\n",
    "diamonds_backup = diamonds_raw.copy()"
   ]
  },
  {
   "cell_type": "markdown",
   "metadata": {
    "id": "rn-FxRgPUYX7"
   },
   "source": [
    "## Data Understanding\n",
    "- Overview"
   ]
  },
  {
   "cell_type": "code",
   "execution_count": 6,
   "metadata": {
    "ExecuteTime": {
     "end_time": "2021-02-08T12:15:39.828753Z",
     "start_time": "2021-02-08T12:15:39.806711Z"
    },
    "colab": {
     "base_uri": "https://localhost:8080/",
     "height": 204
    },
    "id": "msuvuYgdUOiS",
    "outputId": "ef8595a3-64d0-4dfe-be5c-35d1e0d15390"
   },
   "outputs": [
    {
     "data": {
      "text/html": [
       "<div>\n",
       "<style scoped>\n",
       "    .dataframe tbody tr th:only-of-type {\n",
       "        vertical-align: middle;\n",
       "    }\n",
       "\n",
       "    .dataframe tbody tr th {\n",
       "        vertical-align: top;\n",
       "    }\n",
       "\n",
       "    .dataframe thead th {\n",
       "        text-align: right;\n",
       "    }\n",
       "</style>\n",
       "<table border=\"1\" class=\"dataframe\">\n",
       "  <thead>\n",
       "    <tr style=\"text-align: right;\">\n",
       "      <th></th>\n",
       "      <th>carat</th>\n",
       "      <th>cut</th>\n",
       "      <th>color</th>\n",
       "      <th>clarity</th>\n",
       "      <th>depth</th>\n",
       "      <th>table</th>\n",
       "      <th>price</th>\n",
       "      <th>x</th>\n",
       "      <th>y</th>\n",
       "      <th>z</th>\n",
       "    </tr>\n",
       "  </thead>\n",
       "  <tbody>\n",
       "    <tr>\n",
       "      <th>0</th>\n",
       "      <td>0.23</td>\n",
       "      <td>Ideal</td>\n",
       "      <td>E</td>\n",
       "      <td>SI2</td>\n",
       "      <td>61.5</td>\n",
       "      <td>55.0</td>\n",
       "      <td>326</td>\n",
       "      <td>3.95</td>\n",
       "      <td>3.98</td>\n",
       "      <td>2.43</td>\n",
       "    </tr>\n",
       "    <tr>\n",
       "      <th>1</th>\n",
       "      <td>0.21</td>\n",
       "      <td>Premium</td>\n",
       "      <td>E</td>\n",
       "      <td>SI1</td>\n",
       "      <td>59.8</td>\n",
       "      <td>61.0</td>\n",
       "      <td>326</td>\n",
       "      <td>3.89</td>\n",
       "      <td>3.84</td>\n",
       "      <td>2.31</td>\n",
       "    </tr>\n",
       "    <tr>\n",
       "      <th>2</th>\n",
       "      <td>0.23</td>\n",
       "      <td>Good</td>\n",
       "      <td>E</td>\n",
       "      <td>VS1</td>\n",
       "      <td>56.9</td>\n",
       "      <td>65.0</td>\n",
       "      <td>327</td>\n",
       "      <td>4.05</td>\n",
       "      <td>4.07</td>\n",
       "      <td>2.31</td>\n",
       "    </tr>\n",
       "    <tr>\n",
       "      <th>3</th>\n",
       "      <td>0.29</td>\n",
       "      <td>Premium</td>\n",
       "      <td>I</td>\n",
       "      <td>VS2</td>\n",
       "      <td>62.4</td>\n",
       "      <td>58.0</td>\n",
       "      <td>334</td>\n",
       "      <td>4.20</td>\n",
       "      <td>4.23</td>\n",
       "      <td>2.63</td>\n",
       "    </tr>\n",
       "    <tr>\n",
       "      <th>4</th>\n",
       "      <td>0.31</td>\n",
       "      <td>Good</td>\n",
       "      <td>J</td>\n",
       "      <td>SI2</td>\n",
       "      <td>63.3</td>\n",
       "      <td>58.0</td>\n",
       "      <td>335</td>\n",
       "      <td>4.34</td>\n",
       "      <td>4.35</td>\n",
       "      <td>2.75</td>\n",
       "    </tr>\n",
       "  </tbody>\n",
       "</table>\n",
       "</div>"
      ],
      "text/plain": [
       "   carat      cut color clarity  depth  table  price     x     y     z\n",
       "0   0.23    Ideal     E     SI2   61.5   55.0    326  3.95  3.98  2.43\n",
       "1   0.21  Premium     E     SI1   59.8   61.0    326  3.89  3.84  2.31\n",
       "2   0.23     Good     E     VS1   56.9   65.0    327  4.05  4.07  2.31\n",
       "3   0.29  Premium     I     VS2   62.4   58.0    334  4.20  4.23  2.63\n",
       "4   0.31     Good     J     SI2   63.3   58.0    335  4.34  4.35  2.75"
      ]
     },
     "execution_count": 6,
     "metadata": {},
     "output_type": "execute_result"
    }
   ],
   "source": [
    "diamonds_raw.head()"
   ]
  },
  {
   "cell_type": "code",
   "execution_count": 7,
   "metadata": {
    "ExecuteTime": {
     "end_time": "2021-02-08T12:15:39.848032Z",
     "start_time": "2021-02-08T12:15:39.831136Z"
    },
    "colab": {
     "base_uri": "https://localhost:8080/"
    },
    "id": "94vQXkF-UQj3",
    "outputId": "1e9fdfcc-3e86-4131-95b5-5b5bfedc5dba"
   },
   "outputs": [
    {
     "name": "stdout",
     "output_type": "stream",
     "text": [
      "<class 'pandas.core.frame.DataFrame'>\n",
      "RangeIndex: 53940 entries, 0 to 53939\n",
      "Data columns (total 10 columns):\n",
      " #   Column   Non-Null Count  Dtype  \n",
      "---  ------   --------------  -----  \n",
      " 0   carat    53940 non-null  float64\n",
      " 1   cut      53940 non-null  object \n",
      " 2   color    53940 non-null  object \n",
      " 3   clarity  53940 non-null  object \n",
      " 4   depth    53940 non-null  float64\n",
      " 5   table    53940 non-null  float64\n",
      " 6   price    53940 non-null  int64  \n",
      " 7   x        53940 non-null  float64\n",
      " 8   y        53940 non-null  float64\n",
      " 9   z        53940 non-null  float64\n",
      "dtypes: float64(6), int64(1), object(3)\n",
      "memory usage: 4.1+ MB\n"
     ]
    }
   ],
   "source": [
    "diamonds_raw.info()"
   ]
  },
  {
   "cell_type": "markdown",
   "metadata": {
    "id": "CZzyz48mzuV5"
   },
   "source": [
    "## Data Preparation\n",
    "- Missing data\n",
    "- Categorical variables handling (one-hot encoding)\n",
    "- Standardization\n",
    "- Split into train and test set"
   ]
  },
  {
   "cell_type": "markdown",
   "metadata": {},
   "source": [
    "### Missing Values\n",
    "- Dimension x, y, z can't be 0, treated those values as missing values"
   ]
  },
  {
   "cell_type": "code",
   "execution_count": 41,
   "metadata": {
    "ExecuteTime": {
     "end_time": "2021-02-08T12:32:44.116330Z",
     "start_time": "2021-02-08T12:32:44.096995Z"
    }
   },
   "outputs": [
    {
     "data": {
      "text/plain": [
       "carat       0\n",
       "cut         0\n",
       "color       0\n",
       "clarity     0\n",
       "depth       0\n",
       "table       0\n",
       "price       0\n",
       "x           8\n",
       "y          20\n",
       "z          20\n",
       "dtype: int64"
      ]
     },
     "execution_count": 41,
     "metadata": {},
     "output_type": "execute_result"
    }
   ],
   "source": [
    "# replace x = 0, y = 0, z = 0 with NaN and view it as missing values\n",
    "diamonds_raw[['x','y','z']] = diamonds_raw[['x','y','z']].replace(0, np.NaN)\n",
    "diamonds_raw.isnull().sum()"
   ]
  },
  {
   "cell_type": "code",
   "execution_count": 42,
   "metadata": {
    "ExecuteTime": {
     "end_time": "2021-02-08T12:32:46.266969Z",
     "start_time": "2021-02-08T12:32:46.230196Z"
    }
   },
   "outputs": [
    {
     "name": "stdout",
     "output_type": "stream",
     "text": [
      "The sum of missing values:\n",
      "\n",
      "\n"
     ]
    },
    {
     "data": {
      "text/plain": [
       "carat      0\n",
       "cut        0\n",
       "color      0\n",
       "clarity    0\n",
       "depth      0\n",
       "table      0\n",
       "price      0\n",
       "x          0\n",
       "y          0\n",
       "z          0\n",
       "dtype: int64"
      ]
     },
     "metadata": {},
     "output_type": "display_data"
    },
    {
     "name": "stdout",
     "output_type": "stream",
     "text": [
      "\n",
      "\n",
      "the modified shape:  (53920, 10)\n"
     ]
    }
   ],
   "source": [
    "# drop the missing values\n",
    "diamonds_raw.dropna(inplace = True)\n",
    "print(\"The sum of missing values:\")\n",
    "print(\"\\n\")\n",
    "display(diamonds_raw.isnull().sum())\n",
    "print(\"\\n\")\n",
    "print(\"the modified shape: \", diamonds_raw.shape)"
   ]
  },
  {
   "cell_type": "markdown",
   "metadata": {},
   "source": [
    "### Transform categorical variable"
   ]
  },
  {
   "cell_type": "code",
   "execution_count": 11,
   "metadata": {
    "ExecuteTime": {
     "end_time": "2021-02-08T12:15:39.971532Z",
     "start_time": "2021-02-08T12:15:39.934909Z"
    },
    "colab": {
     "base_uri": "https://localhost:8080/"
    },
    "id": "eTMv4DzlUjNk",
    "outputId": "bbbb2ea4-534a-4449-a59a-e7f4f05a19d6"
   },
   "outputs": [
    {
     "name": "stdout",
     "output_type": "stream",
     "text": [
      "data shape before one-hot encoding: (53920, 10)\n",
      "data shape after one-hot encoding: (53920, 27)\n"
     ]
    }
   ],
   "source": [
    "# Transform categorical variables using one-hot encoding\n",
    "diamonds_en = pd.get_dummies(diamonds_raw)\n",
    "print(\"data shape before one-hot encoding:\", diamonds_raw.shape)\n",
    "print(\"data shape after one-hot encoding:\", diamonds_en.shape) #17 more features"
   ]
  },
  {
   "cell_type": "markdown",
   "metadata": {
    "id": "3C9HchDJ5eNx"
   },
   "source": [
    "### Split data into test and train"
   ]
  },
  {
   "cell_type": "code",
   "execution_count": 12,
   "metadata": {
    "ExecuteTime": {
     "end_time": "2021-02-08T12:15:39.996071Z",
     "start_time": "2021-02-08T12:15:39.975789Z"
    },
    "id": "wJK7qp6Fz0Qi"
   },
   "outputs": [],
   "source": [
    "X = diamonds_en.drop(['price'], axis = 1).astype(float)"
   ]
  },
  {
   "cell_type": "code",
   "execution_count": 13,
   "metadata": {
    "ExecuteTime": {
     "end_time": "2021-02-08T12:15:40.004051Z",
     "start_time": "2021-02-08T12:15:39.998420Z"
    },
    "id": "fGOupr50ArZh"
   },
   "outputs": [],
   "source": [
    "y = diamonds_en.price.astype(float)"
   ]
  },
  {
   "cell_type": "code",
   "execution_count": 14,
   "metadata": {
    "ExecuteTime": {
     "end_time": "2021-02-08T12:15:40.042632Z",
     "start_time": "2021-02-08T12:15:40.009505Z"
    },
    "id": "zbnJH7XJAued"
   },
   "outputs": [],
   "source": [
    "X_train, X_test, y_train, y_test = train_test_split(X, y, test_size = 0.2, random_state = 42)"
   ]
  },
  {
   "cell_type": "code",
   "execution_count": 15,
   "metadata": {
    "ExecuteTime": {
     "end_time": "2021-02-08T12:15:40.050871Z",
     "start_time": "2021-02-08T12:15:40.044574Z"
    },
    "colab": {
     "base_uri": "https://localhost:8080/"
    },
    "id": "GwfFRKeUA09X",
    "outputId": "1347ece1-6b29-4954-c4d7-e8446ff63950"
   },
   "outputs": [
    {
     "name": "stdout",
     "output_type": "stream",
     "text": [
      "(43136, 26)\n",
      "(10784, 26)\n"
     ]
    }
   ],
   "source": [
    "print(X_train.shape)\n",
    "print(X_test.shape)"
   ]
  },
  {
   "cell_type": "code",
   "execution_count": 16,
   "metadata": {
    "ExecuteTime": {
     "end_time": "2021-02-08T12:15:40.184153Z",
     "start_time": "2021-02-08T12:15:40.056851Z"
    },
    "colab": {
     "base_uri": "https://localhost:8080/",
     "height": 855
    },
    "id": "dFwvA2TfC6ug",
    "outputId": "c585045b-62a0-4b29-df23-b50cc48a28e0"
   },
   "outputs": [
    {
     "data": {
      "text/html": [
       "<div>\n",
       "<style scoped>\n",
       "    .dataframe tbody tr th:only-of-type {\n",
       "        vertical-align: middle;\n",
       "    }\n",
       "\n",
       "    .dataframe tbody tr th {\n",
       "        vertical-align: top;\n",
       "    }\n",
       "\n",
       "    .dataframe thead th {\n",
       "        text-align: right;\n",
       "    }\n",
       "</style>\n",
       "<table border=\"1\" class=\"dataframe\">\n",
       "  <thead>\n",
       "    <tr style=\"text-align: right;\">\n",
       "      <th></th>\n",
       "      <th>mean</th>\n",
       "      <th>std</th>\n",
       "    </tr>\n",
       "  </thead>\n",
       "  <tbody>\n",
       "    <tr>\n",
       "      <th>carat</th>\n",
       "      <td>0.797305</td>\n",
       "      <td>0.474168</td>\n",
       "    </tr>\n",
       "    <tr>\n",
       "      <th>depth</th>\n",
       "      <td>61.746905</td>\n",
       "      <td>1.428401</td>\n",
       "    </tr>\n",
       "    <tr>\n",
       "      <th>table</th>\n",
       "      <td>57.458626</td>\n",
       "      <td>2.227067</td>\n",
       "    </tr>\n",
       "    <tr>\n",
       "      <th>x</th>\n",
       "      <td>5.730634</td>\n",
       "      <td>1.119934</td>\n",
       "    </tr>\n",
       "    <tr>\n",
       "      <th>y</th>\n",
       "      <td>3.538715</td>\n",
       "      <td>0.692409</td>\n",
       "    </tr>\n",
       "    <tr>\n",
       "      <th>z</th>\n",
       "      <td>3.538715</td>\n",
       "      <td>0.692409</td>\n",
       "    </tr>\n",
       "    <tr>\n",
       "      <th>cut_Fair</th>\n",
       "      <td>0.029743</td>\n",
       "      <td>0.169880</td>\n",
       "    </tr>\n",
       "    <tr>\n",
       "      <th>cut_Good</th>\n",
       "      <td>0.090180</td>\n",
       "      <td>0.286443</td>\n",
       "    </tr>\n",
       "    <tr>\n",
       "      <th>cut_Ideal</th>\n",
       "      <td>0.399017</td>\n",
       "      <td>0.489702</td>\n",
       "    </tr>\n",
       "    <tr>\n",
       "      <th>cut_Premium</th>\n",
       "      <td>0.257001</td>\n",
       "      <td>0.436985</td>\n",
       "    </tr>\n",
       "    <tr>\n",
       "      <th>cut_Very Good</th>\n",
       "      <td>0.224059</td>\n",
       "      <td>0.416966</td>\n",
       "    </tr>\n",
       "    <tr>\n",
       "      <th>color_D</th>\n",
       "      <td>0.125185</td>\n",
       "      <td>0.330933</td>\n",
       "    </tr>\n",
       "    <tr>\n",
       "      <th>color_E</th>\n",
       "      <td>0.182933</td>\n",
       "      <td>0.386616</td>\n",
       "    </tr>\n",
       "    <tr>\n",
       "      <th>color_F</th>\n",
       "      <td>0.175862</td>\n",
       "      <td>0.380707</td>\n",
       "    </tr>\n",
       "    <tr>\n",
       "      <th>color_G</th>\n",
       "      <td>0.207901</td>\n",
       "      <td>0.405810</td>\n",
       "    </tr>\n",
       "    <tr>\n",
       "      <th>color_H</th>\n",
       "      <td>0.154697</td>\n",
       "      <td>0.361620</td>\n",
       "    </tr>\n",
       "    <tr>\n",
       "      <th>color_I</th>\n",
       "      <td>0.101423</td>\n",
       "      <td>0.301892</td>\n",
       "    </tr>\n",
       "    <tr>\n",
       "      <th>color_J</th>\n",
       "      <td>0.051998</td>\n",
       "      <td>0.222026</td>\n",
       "    </tr>\n",
       "    <tr>\n",
       "      <th>clarity_I1</th>\n",
       "      <td>0.013979</td>\n",
       "      <td>0.117405</td>\n",
       "    </tr>\n",
       "    <tr>\n",
       "      <th>clarity_IF</th>\n",
       "      <td>0.033290</td>\n",
       "      <td>0.179395</td>\n",
       "    </tr>\n",
       "    <tr>\n",
       "      <th>clarity_SI1</th>\n",
       "      <td>0.242976</td>\n",
       "      <td>0.428886</td>\n",
       "    </tr>\n",
       "    <tr>\n",
       "      <th>clarity_SI2</th>\n",
       "      <td>0.168861</td>\n",
       "      <td>0.374634</td>\n",
       "    </tr>\n",
       "    <tr>\n",
       "      <th>clarity_VS1</th>\n",
       "      <td>0.151567</td>\n",
       "      <td>0.358605</td>\n",
       "    </tr>\n",
       "    <tr>\n",
       "      <th>clarity_VS2</th>\n",
       "      <td>0.226238</td>\n",
       "      <td>0.418400</td>\n",
       "    </tr>\n",
       "    <tr>\n",
       "      <th>clarity_VVS1</th>\n",
       "      <td>0.068782</td>\n",
       "      <td>0.253087</td>\n",
       "    </tr>\n",
       "    <tr>\n",
       "      <th>clarity_VVS2</th>\n",
       "      <td>0.094306</td>\n",
       "      <td>0.292258</td>\n",
       "    </tr>\n",
       "  </tbody>\n",
       "</table>\n",
       "</div>"
      ],
      "text/plain": [
       "                    mean       std\n",
       "carat           0.797305  0.474168\n",
       "depth          61.746905  1.428401\n",
       "table          57.458626  2.227067\n",
       "x               5.730634  1.119934\n",
       "y               3.538715  0.692409\n",
       "z               3.538715  0.692409\n",
       "cut_Fair        0.029743  0.169880\n",
       "cut_Good        0.090180  0.286443\n",
       "cut_Ideal       0.399017  0.489702\n",
       "cut_Premium     0.257001  0.436985\n",
       "cut_Very Good   0.224059  0.416966\n",
       "color_D         0.125185  0.330933\n",
       "color_E         0.182933  0.386616\n",
       "color_F         0.175862  0.380707\n",
       "color_G         0.207901  0.405810\n",
       "color_H         0.154697  0.361620\n",
       "color_I         0.101423  0.301892\n",
       "color_J         0.051998  0.222026\n",
       "clarity_I1      0.013979  0.117405\n",
       "clarity_IF      0.033290  0.179395\n",
       "clarity_SI1     0.242976  0.428886\n",
       "clarity_SI2     0.168861  0.374634\n",
       "clarity_VS1     0.151567  0.358605\n",
       "clarity_VS2     0.226238  0.418400\n",
       "clarity_VVS1    0.068782  0.253087\n",
       "clarity_VVS2    0.094306  0.292258"
      ]
     },
     "execution_count": 16,
     "metadata": {},
     "output_type": "execute_result"
    }
   ],
   "source": [
    "X_train.describe().transpose()[['mean','std']]"
   ]
  },
  {
   "cell_type": "markdown",
   "metadata": {},
   "source": [
    "### Standardization"
   ]
  },
  {
   "cell_type": "code",
   "execution_count": 17,
   "metadata": {
    "ExecuteTime": {
     "end_time": "2021-02-08T12:15:40.195844Z",
     "start_time": "2021-02-08T12:15:40.189519Z"
    },
    "id": "SpYtX3fUGE4c"
   },
   "outputs": [],
   "source": [
    "# Implement standardization\n",
    "sc = StandardScaler()"
   ]
  },
  {
   "cell_type": "code",
   "execution_count": 18,
   "metadata": {
    "ExecuteTime": {
     "end_time": "2021-02-08T12:15:40.219498Z",
     "start_time": "2021-02-08T12:15:40.197788Z"
    },
    "colab": {
     "base_uri": "https://localhost:8080/"
    },
    "id": "rAlZvoNZGLZd",
    "outputId": "33eed499-209a-490a-d539-11bb90639346"
   },
   "outputs": [
    {
     "data": {
      "text/plain": [
       "StandardScaler()"
      ]
     },
     "execution_count": 18,
     "metadata": {},
     "output_type": "execute_result"
    }
   ],
   "source": [
    "# Fit to the X_train data\n",
    "sc.fit(X_train)"
   ]
  },
  {
   "cell_type": "code",
   "execution_count": 19,
   "metadata": {
    "ExecuteTime": {
     "end_time": "2021-02-08T12:15:40.235739Z",
     "start_time": "2021-02-08T12:15:40.221370Z"
    },
    "id": "R_yBxPr5GPp4"
   },
   "outputs": [],
   "source": [
    "# Apply to the X_train data\n",
    "X_train_std = sc.transform(X_train)\n",
    "X_test_std = sc.transform(X_test)"
   ]
  },
  {
   "cell_type": "code",
   "execution_count": 20,
   "metadata": {
    "ExecuteTime": {
     "end_time": "2021-02-08T12:15:40.244877Z",
     "start_time": "2021-02-08T12:15:40.238257Z"
    },
    "colab": {
     "base_uri": "https://localhost:8080/"
    },
    "id": "uCzVCeCWGZ_y",
    "outputId": "f2d48eaa-2d4e-47d2-f6a4-9b19ce7c1bcf"
   },
   "outputs": [
    {
     "data": {
      "text/plain": [
       "array([[-0.522, -0.173, -0.655, ..., -0.541, -0.272, -0.323],\n",
       "       [ 1.06 , -1.083,  0.692, ..., -0.541, -0.272, -0.323],\n",
       "       [-0.775,  0.107, -1.104, ...,  1.849, -0.272, -0.323],\n",
       "       ...,\n",
       "       [-0.838,  0.177, -0.655, ..., -0.541, -0.272,  3.099],\n",
       "       [ 0.217,  0.737,  0.692, ..., -0.541, -0.272, -0.323],\n",
       "       [ 0.87 ,  0.807,  0.243, ..., -0.541, -0.272, -0.323]])"
      ]
     },
     "execution_count": 20,
     "metadata": {},
     "output_type": "execute_result"
    }
   ],
   "source": [
    "X_train_std"
   ]
  },
  {
   "cell_type": "markdown",
   "metadata": {
    "id": "FvY819GzG3hq"
   },
   "source": [
    "## Deep Learning Model\n",
    "- Build the network\n",
    "- Compile the network\n",
    "- Fit the network to the data\n",
    "- Evaluate the result\n",
    "- Fine-Tune the network"
   ]
  },
  {
   "cell_type": "code",
   "execution_count": 21,
   "metadata": {
    "ExecuteTime": {
     "end_time": "2021-02-08T12:15:40.257469Z",
     "start_time": "2021-02-08T12:15:40.247386Z"
    },
    "id": "I90STlLRG2Oh"
   },
   "outputs": [],
   "source": [
    "# Build the network\n",
    "network = models.Sequential()"
   ]
  },
  {
   "cell_type": "code",
   "execution_count": 22,
   "metadata": {
    "ExecuteTime": {
     "end_time": "2021-02-08T12:15:40.331127Z",
     "start_time": "2021-02-08T12:15:40.259446Z"
    },
    "colab": {
     "base_uri": "https://localhost:8080/"
    },
    "id": "6AnmePMlGbfI",
    "outputId": "d2095ab2-520b-45e7-93e1-1dc53eef7bf3"
   },
   "outputs": [
    {
     "name": "stdout",
     "output_type": "stream",
     "text": [
      "Model: \"sequential\"\n",
      "_________________________________________________________________\n",
      "Layer (type)                 Output Shape              Param #   \n",
      "=================================================================\n",
      "dense (Dense)                (None, 256)               6912      \n",
      "_________________________________________________________________\n",
      "dense_1 (Dense)              (None, 128)               32896     \n",
      "_________________________________________________________________\n",
      "dense_2 (Dense)              (None, 64)                8256      \n",
      "_________________________________________________________________\n",
      "dense_3 (Dense)              (None, 1)                 65        \n",
      "=================================================================\n",
      "Total params: 48,129\n",
      "Trainable params: 48,129\n",
      "Non-trainable params: 0\n",
      "_________________________________________________________________\n"
     ]
    }
   ],
   "source": [
    "# Add layers\n",
    "network.add(layers.Dense(256, activation='relu', input_dim = X_train.shape[1]))\n",
    "network.add(layers.Dense(128, activation = 'relu'))\n",
    "network.add(layers.Dense(64, activation = 'relu'))\n",
    "network.add(layers.Dense(1, activation = 'linear'))\n",
    "network.summary()"
   ]
  },
  {
   "cell_type": "code",
   "execution_count": 23,
   "metadata": {
    "ExecuteTime": {
     "end_time": "2021-02-08T12:15:40.364574Z",
     "start_time": "2021-02-08T12:15:40.347359Z"
    },
    "id": "Gj2q2imHIvvA"
   },
   "outputs": [],
   "source": [
    "# Compile the model\n",
    "network.compile(loss = 'mean_absolute_error',\n",
    "                optimizer = 'adam',\n",
    "                metrics = ['mape', 'mae'])"
   ]
  },
  {
   "cell_type": "code",
   "execution_count": 24,
   "metadata": {
    "ExecuteTime": {
     "end_time": "2021-02-08T12:15:58.270947Z",
     "start_time": "2021-02-08T12:15:40.371277Z"
    },
    "colab": {
     "base_uri": "https://localhost:8080/"
    },
    "id": "GRmWX_Z9KQf-",
    "outputId": "e8542203-897f-49af-a4ed-6f713c42b912"
   },
   "outputs": [
    {
     "name": "stdout",
     "output_type": "stream",
     "text": [
      "Epoch 1/20\n",
      "540/540 - 2s - loss: 1181.1691 - mape: 29.7166 - mae: 1181.1691 - val_loss: 414.7484 - val_mape: 10.9706 - val_mae: 414.7484\n",
      "Epoch 2/20\n",
      "540/540 - 1s - loss: 376.9331 - mape: 10.1445 - mae: 376.9331 - val_loss: 366.0881 - val_mape: 9.4211 - val_mae: 366.0881\n",
      "Epoch 3/20\n",
      "540/540 - 1s - loss: 345.7108 - mape: 9.2604 - mae: 345.7108 - val_loss: 348.4586 - val_mape: 9.3351 - val_mae: 348.4586\n",
      "Epoch 4/20\n",
      "540/540 - 1s - loss: 333.1226 - mape: 8.9687 - mae: 333.1226 - val_loss: 338.7702 - val_mape: 8.9003 - val_mae: 338.7702\n",
      "Epoch 5/20\n",
      "540/540 - 1s - loss: 325.5092 - mape: 8.7851 - mae: 325.5092 - val_loss: 331.1254 - val_mape: 8.6165 - val_mae: 331.1254\n",
      "Epoch 6/20\n",
      "540/540 - 1s - loss: 318.5967 - mape: 8.6010 - mae: 318.5967 - val_loss: 338.4320 - val_mape: 9.1312 - val_mae: 338.4320\n",
      "Epoch 7/20\n",
      "540/540 - 1s - loss: 315.0432 - mape: 8.5179 - mae: 315.0432 - val_loss: 326.7234 - val_mape: 8.8081 - val_mae: 326.7234\n",
      "Epoch 8/20\n",
      "540/540 - 1s - loss: 314.4221 - mape: 8.5128 - mae: 314.4221 - val_loss: 337.2981 - val_mape: 8.7175 - val_mae: 337.2981\n",
      "Epoch 9/20\n",
      "540/540 - 1s - loss: 311.1706 - mape: 8.4343 - mae: 311.1706 - val_loss: 322.1710 - val_mape: 8.3752 - val_mae: 322.1710\n",
      "Epoch 10/20\n",
      "540/540 - 1s - loss: 310.6632 - mape: 8.4464 - mae: 310.6632 - val_loss: 321.1980 - val_mape: 8.4806 - val_mae: 321.1980\n",
      "Epoch 11/20\n",
      "540/540 - 1s - loss: 308.2456 - mape: 8.3852 - mae: 308.2456 - val_loss: 327.2698 - val_mape: 8.7593 - val_mae: 327.2698\n",
      "Epoch 12/20\n",
      "540/540 - 1s - loss: 308.3195 - mape: 8.3663 - mae: 308.3195 - val_loss: 321.0625 - val_mape: 8.4080 - val_mae: 321.0625\n",
      "Epoch 13/20\n",
      "540/540 - 1s - loss: 306.6536 - mape: 8.3295 - mae: 306.6536 - val_loss: 320.1082 - val_mape: 8.3173 - val_mae: 320.1082\n",
      "Epoch 14/20\n",
      "540/540 - 1s - loss: 305.0578 - mape: 8.3061 - mae: 305.0578 - val_loss: 320.6820 - val_mape: 8.4413 - val_mae: 320.6820\n",
      "Epoch 15/20\n",
      "540/540 - 1s - loss: 305.6467 - mape: 8.3283 - mae: 305.6467 - val_loss: 319.2402 - val_mape: 8.5365 - val_mae: 319.2402\n",
      "Epoch 16/20\n",
      "540/540 - 1s - loss: 303.2458 - mape: 8.2544 - mae: 303.2458 - val_loss: 317.6138 - val_mape: 8.5463 - val_mae: 317.6138\n",
      "Epoch 17/20\n",
      "540/540 - 1s - loss: 303.0480 - mape: 8.2687 - mae: 303.0480 - val_loss: 316.3475 - val_mape: 8.2440 - val_mae: 316.3475\n",
      "Epoch 18/20\n",
      "540/540 - 1s - loss: 302.8767 - mape: 8.2298 - mae: 302.8767 - val_loss: 317.8413 - val_mape: 8.4135 - val_mae: 317.8413\n",
      "Epoch 19/20\n",
      "540/540 - 1s - loss: 301.0932 - mape: 8.1649 - mae: 301.0932 - val_loss: 316.6425 - val_mape: 8.5622 - val_mae: 316.6425\n",
      "Epoch 20/20\n",
      "540/540 - 1s - loss: 301.1000 - mape: 8.1788 - mae: 301.1000 - val_loss: 315.1118 - val_mape: 8.5144 - val_mae: 315.1118\n"
     ]
    }
   ],
   "source": [
    "# Fit the model to the data\n",
    "history = network.fit(X_train_std, y_train,batch_size=64, validation_split=0.2, epochs=20, verbose=2)"
   ]
  },
  {
   "cell_type": "code",
   "execution_count": 25,
   "metadata": {
    "ExecuteTime": {
     "end_time": "2021-02-08T12:15:58.284910Z",
     "start_time": "2021-02-08T12:15:58.275125Z"
    }
   },
   "outputs": [],
   "source": [
    "# Plot the fitting process:\n",
    "def plot_loss(history):\n",
    "  plt.plot(history.history['loss'], label='loss')\n",
    "  plt.plot(history.history['val_loss'], label='val_loss')\n",
    "  plt.ylim([280,1000])\n",
    "  plt.xlabel('Epoch')\n",
    "  plt.ylabel('Error [MPG]')\n",
    "  plt.legend()\n",
    "  plt.grid(True)"
   ]
  },
  {
   "cell_type": "code",
   "execution_count": 26,
   "metadata": {
    "ExecuteTime": {
     "end_time": "2021-02-08T12:15:58.668708Z",
     "start_time": "2021-02-08T12:15:58.287273Z"
    }
   },
   "outputs": [
    {
     "data": {
      "image/png": "[encoded data removed]",
      "text/plain": [
       "<Figure size 432x288 with 1 Axes>"
      ]
     },
     "metadata": {
      "needs_background": "light"
     },
     "output_type": "display_data"
    }
   ],
   "source": [
    "plot_loss(history)"
   ]
  },
  {
   "cell_type": "code",
   "execution_count": 27,
   "metadata": {
    "ExecuteTime": {
     "end_time": "2021-02-08T12:15:59.342211Z",
     "start_time": "2021-02-08T12:15:58.672681Z"
    },
    "colab": {
     "base_uri": "https://localhost:8080/"
    },
    "id": "5Ec0HJjkKR-M",
    "outputId": "baa60e7a-ddea-43a8-b62e-8c230003335a"
   },
   "outputs": [
    {
     "name": "stdout",
     "output_type": "stream",
     "text": [
      "337/337 [==============================] - 1s 1ms/step - loss: 320.0869 - mape: 9.1003 - mae: 320.0869\n"
     ]
    }
   ],
   "source": [
    "# test on test set\n",
    "test = network.evaluate(X_test_std, y_test, verbose = 1)"
   ]
  },
  {
   "cell_type": "code",
   "execution_count": 28,
   "metadata": {
    "ExecuteTime": {
     "end_time": "2021-02-08T12:15:59.683978Z",
     "start_time": "2021-02-08T12:15:59.348553Z"
    },
    "id": "3W2ScwyzMyMs"
   },
   "outputs": [],
   "source": [
    "y_pred = network.predict(X_test_std)"
   ]
  },
  {
   "cell_type": "markdown",
   "metadata": {},
   "source": [
    "## Evaluation of the Model\n",
    "- R2\n",
    "- Adjusted R2\n",
    "- Mean Squared Error\n",
    "- Mean Absolute Error\n",
    "- Mean Absolute Percentage Error"
   ]
  },
  {
   "cell_type": "code",
   "execution_count": 36,
   "metadata": {
    "ExecuteTime": {
     "end_time": "2021-02-08T12:19:17.266318Z",
     "start_time": "2021-02-08T12:19:17.260609Z"
    },
    "colab": {
     "base_uri": "https://localhost:8080/"
    },
    "id": "lrLMNvaYSFR3",
    "outputId": "10904f6e-cbf7-46f0-e821-f474352cf462"
   },
   "outputs": [],
   "source": [
    "R2 = r2_score(y_test, y_pred)\n",
    "n = X_test.shape[0]\n",
    "p = X_test.shape[1] - 1\n",
    "adj_rsquared = 1-(1-R2)*((n-1)/(n-p-1))"
   ]
  },
  {
   "cell_type": "code",
   "execution_count": 35,
   "metadata": {
    "ExecuteTime": {
     "end_time": "2021-02-08T12:17:05.523254Z",
     "start_time": "2021-02-08T12:17:05.515061Z"
    },
    "colab": {
     "base_uri": "https://localhost:8080/"
    },
    "id": "wptfcu6JR7zn",
    "outputId": "ac5b1259-9d1c-4499-ce3b-85a1ea81f07d"
   },
   "outputs": [
    {
     "name": "stdout",
     "output_type": "stream",
     "text": [
      "DL R2 is: 0.8517288327124773\n",
      "DL Adjusted R2 is: 0.8513842724612979\n",
      "DL Mean Squared Error is: 2377076.068881698\n",
      "DL Mean Absolute Error is: 320.0869640525795\n",
      "DL Mean Absolute Percentage Error is: 0.09100274753264226\n"
     ]
    }
   ],
   "source": [
    "# Evaluation of Deep Learning model\n",
    "print(\"DL R2 is:\", r2_score(y_test, y_pred))\n",
    "print(\"DL Adjusted R2 is:\", adj_rsquared)\n",
    "print(\"DL Mean Squared Error is:\", mse)\n",
    "print(\"DL Mean Absolute Error is:\", mean_absolute_error(y_test, y_pred))\n",
    "print(\"DL Mean Absolute Percentage Error is:\", mean_absolute_percentage_error(y_test, y_pred))"
   ]
  }
 ],
 "metadata": {
  "colab": {
   "collapsed_sections": [],
   "name": "Evaluated exercise 2-2 s0572048.ipynb",
   "provenance": []
  },
  "hide_input": false,
  "kernelspec": {
   "display_name": "Python 3",
   "language": "python",
   "name": "python3"
  },
  "language_info": {
   "codemirror_mode": {
    "name": "ipython",
    "version": 3
   },
   "file_extension": ".py",
   "mimetype": "text/x-python",
   "name": "python",
   "nbconvert_exporter": "python",
   "pygments_lexer": "ipython3",
   "version": "3.7.6"
  },
  "toc": {
   "base_numbering": 1,
   "nav_menu": {},
   "number_sections": true,
   "sideBar": true,
   "skip_h1_title": false,
   "title_cell": "Table of Contents",
   "title_sidebar": "Contents",
   "toc_cell": false,
   "toc_position": {},
   "toc_section_display": true,
   "toc_window_display": true
  },
  "varInspector": {
   "cols": {
    "lenName": 16,
    "lenType": 16,
    "lenVar": 40
   },
   "kernels_config": {
    "python": {
     "delete_cmd_postfix": "",
     "delete_cmd_prefix": "del ",
     "library": "var_list.py",
     "varRefreshCmd": "print(var_dic_list())"
    },
    "r": {
     "delete_cmd_postfix": ") ",
     "delete_cmd_prefix": "rm(",
     "library": "var_list.r",
     "varRefreshCmd": "cat(var_dic_list()) "
    }
   },
   "types_to_exclude": [
    "module",
    "function",
    "builtin_function_or_method",
    "instance",
    "_Feature"
   ],
   "window_display": false
  }
 },
 "nbformat": 4,
 "nbformat_minor": 1
}
